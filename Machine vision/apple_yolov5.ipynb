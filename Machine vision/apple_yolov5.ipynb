{
 "cells": [
  {
   "cell_type": "code",
   "execution_count": 5,
   "metadata": {
    "id": "RF_Ajq4k0rQu"
   },
   "outputs": [],
   "source": [
    "import cv2\n",
    "import numpy as np\n",
    "import os\n",
    "\n",
    "# 文件路径\n",
    "mask_file = '/content/20150919_174151_image1.png'  # 单个掩码文件\n",
    "image_file = '/content/20150919_17415_image1.png'  # 单个图像文件\n",
    "label_dir = '/content/labels'  # 标签文件存储路径\n",
    "\n",
    "os.makedirs(label_dir, exist_ok=True)\n",
    "\n",
    "# 读取掩码图像\n",
    "mask = cv2.imread(mask_file, cv2.IMREAD_GRAYSCALE)\n",
    "\n",
    "# 检测每个苹果的轮廓\n",
    "contours, _ = cv2.findContours(mask, cv2.RETR_EXTERNAL, cv2.CHAIN_APPROX_SIMPLE)\n",
    "\n",
    "# 创建与图像同名的标签文件\n",
    "label_file_path = os.path.join(label_dir, os.path.basename(image_file).replace('.png', '.txt'))\n",
    "with open(label_file_path, 'w') as label_file:\n",
    "    for contour in contours:\n",
    "        x, y, w, h = cv2.boundingRect(contour)\n",
    "\n",
    "        # 归一化边界框坐标\n",
    "        x_center = (x + w / 2) / mask.shape[1]\n",
    "        y_center = (y + h / 2) / mask.shape[0]\n",
    "        width = w / mask.shape[1]\n",
    "        height = h / mask.shape[0]\n",
    "\n",
    "        # 写入标签文件\n",
    "        label_file.write(f\"0 {x_center} {y_center} {width} {height}\\n\")\n"
   ]
  },
  {
   "cell_type": "code",
   "execution_count": null,
   "metadata": {
    "colab": {
     "base_uri": "https://localhost:8080/"
    },
    "id": "HQaoQMfxSGmG",
    "outputId": "a1bfc6e2-dbbc-45f4-dbc0-b16801a53bcf"
   },
   "outputs": [
    {
     "ename": "ValueError",
     "evalue": "not enough values to unpack (expected 2, got 1)",
     "output_type": "error",
     "traceback": [
      "\u001b[1;31m---------------------------------------------------------------------------\u001b[0m",
      "\u001b[1;31mValueError\u001b[0m                                Traceback (most recent call last)",
      "Cell \u001b[1;32mIn[6], line 22\u001b[0m\n\u001b[0;32m     18\u001b[0m \u001b[38;5;28;01mwith\u001b[39;00m \u001b[38;5;28mopen\u001b[39m(label_file_path, \u001b[38;5;124m'\u001b[39m\u001b[38;5;124mw\u001b[39m\u001b[38;5;124m'\u001b[39m) \u001b[38;5;28;01mas\u001b[39;00m label_file:\n\u001b[0;32m     19\u001b[0m     \u001b[38;5;66;03m# 遍历每个像素值1-255来检测苹果区域\u001b[39;00m\n\u001b[0;32m     20\u001b[0m     \u001b[38;5;28;01mfor\u001b[39;00m pixel_value \u001b[38;5;129;01min\u001b[39;00m \u001b[38;5;28mrange\u001b[39m(\u001b[38;5;241m1\u001b[39m, \u001b[38;5;241m256\u001b[39m):\n\u001b[0;32m     21\u001b[0m         \u001b[38;5;66;03m# 找到所有值为当前像素值的点\u001b[39;00m\n\u001b[1;32m---> 22\u001b[0m         y_indices, x_indices \u001b[38;5;241m=\u001b[39m np\u001b[38;5;241m.\u001b[39mwhere(mask \u001b[38;5;241m==\u001b[39m pixel_value)\n\u001b[0;32m     24\u001b[0m         \u001b[38;5;66;03m# 检查是否检测到任何苹果区域\u001b[39;00m\n\u001b[0;32m     25\u001b[0m         \u001b[38;5;28;01mif\u001b[39;00m \u001b[38;5;28mlen\u001b[39m(x_indices) \u001b[38;5;241m>\u001b[39m \u001b[38;5;241m0\u001b[39m \u001b[38;5;129;01mand\u001b[39;00m \u001b[38;5;28mlen\u001b[39m(y_indices) \u001b[38;5;241m>\u001b[39m \u001b[38;5;241m0\u001b[39m:\n\u001b[0;32m     26\u001b[0m             \u001b[38;5;66;03m# 找到边界框的最小和最大坐标\u001b[39;00m\n",
      "\u001b[1;31mValueError\u001b[0m: not enough values to unpack (expected 2, got 1)"
     ]
    }
   ],
   "source": [
    "import cv2\n",
    "import numpy as np\n",
    "import os\n",
    "\n",
    "# 文件路径\n",
    "mask_file = '/content/20150919_174151_image1 (1).png'  # 单个掩码文件\n",
    "image_file = 'D:\\university\\机器人\\Machine_vision\\dataset\\image\\20150919_174151_image1.png'  # 单个图像文件\n",
    "label_dir = '/content/labels'  # 标签文件存储路径\n",
    "\n",
    "# 自动创建 labels 文件夹\n",
    "os.makedirs(label_dir, exist_ok=True)\n",
    "\n",
    "# 读取掩码图像\n",
    "mask = cv2.imread(mask_file, cv2.IMREAD_GRAYSCALE)\n",
    "\n",
    "# 创建与图像同名的标签文件\n",
    "label_file_path = os.path.join(label_dir, os.path.basename(image_file).replace('.png', '.txt'))\n",
    "with open(label_file_path, 'w') as label_file:\n",
    "    # 遍历每个像素值1-255来检测苹果区域\n",
    "    for pixel_value in range(1, 256):\n",
    "        # 找到所有值为当前像素值的点\n",
    "        y_indices, x_indices = np.where(mask == pixel_value)\n",
    "\n",
    "        # 检查是否检测到任何苹果区域\n",
    "        if len(x_indices) > 0 and len(y_indices) > 0:\n",
    "            # 找到边界框的最小和最大坐标\n",
    "            x_min, x_max = x_indices.min(), x_indices.max()\n",
    "            y_min, y_max = y_indices.min(), y_indices.max()\n",
    "\n",
    "            # 计算边界框中心和尺寸，归一化到 YOLO 格式\n",
    "            x_center = (x_min + x_max) / 2 / mask.shape[1]\n",
    "            y_center = (y_min + y_max) / 2 / mask.shape[0]\n",
    "            width = (x_max - x_min) / mask.shape[1]\n",
    "            height = (y_max - y_min) / mask.shape[0]\n",
    "\n",
    "            # 写入标签文件（类别ID假设为0）\n",
    "            label_file.write(f\"0 {x_center} {y_center} {width} {height}\\n\")\n",
    "\n",
    "print(f\"Labels saved to {label_file_path}\")\n",
    "\n"
   ]
  },
  {
   "cell_type": "code",
   "execution_count": null,
   "metadata": {
    "colab": {
     "base_uri": "https://localhost:8080/",
     "height": 1000
    },
    "id": "P3KTpxe9_6qT",
    "outputId": "592270e1-8a5c-4658-9a77-89dc03e67959"
   },
   "outputs": [],
   "source": [
    "import cv2\n",
    "import os\n",
    "\n",
    "# 文件路径\n",
    "image_file = '/content/20150919_174151_image1.png'   # 原始图像文件\n",
    "label_file = '/content/labels/20150919_174151_image1.txt'   # 对应的标签文件\n",
    "\n",
    "# 读取图像\n",
    "image = cv2.imread(image_file)\n",
    "\n",
    "# 获取图像尺寸\n",
    "height, width = image.shape[:2]\n",
    "\n",
    "# 打开标签文件并读取每行\n",
    "with open(label_file, 'r') as file:\n",
    "    for line in file:\n",
    "        # 解析标签信息\n",
    "        class_id, x_center, y_center, box_width, box_height = map(float, line.split())\n",
    "\n",
    "        # 将归一化坐标转换回图像像素坐标\n",
    "        x_center = int(x_center * width)\n",
    "        y_center = int(y_center * height)\n",
    "        box_width = int(box_width * width)\n",
    "        box_height = int(box_height * height)\n",
    "\n",
    "        # 计算左上角和右下角坐标\n",
    "        top_left = (int(x_center - box_width / 2), int(y_center - box_height / 2))\n",
    "        bottom_right = (int(x_center + box_width / 2), int(y_center + box_height / 2))\n",
    "\n",
    "        # 绘制边界框\n",
    "        cv2.rectangle(image, top_left, bottom_right, (0, 255, 0), 2)\n",
    "\n",
    "# 显示图像\n",
    "from google.colab.patches import cv2_imshow\n",
    "cv2_imshow(image)\n",
    "cv2.waitKey(0)\n",
    "cv2.destroyAllWindows()\n"
   ]
  },
  {
   "cell_type": "code",
   "execution_count": null,
   "metadata": {
    "colab": {
     "base_uri": "https://localhost:8080/"
    },
    "id": "PvXta3QGI14j",
    "outputId": "4e47ddbf-42a7-4613-86f4-5dcd9aef6b18"
   },
   "outputs": [],
   "source": [
    "!git clone https://github.com/ultralytics/yolov5.git\n",
    "%cd yolov5\n",
    "!pip install -r requirements.txt\n"
   ]
  }
 ],
 "metadata": {
  "colab": {
   "provenance": []
  },
  "kernelspec": {
   "display_name": "base",
   "language": "python",
   "name": "python3"
  },
  "language_info": {
   "codemirror_mode": {
    "name": "ipython",
    "version": 3
   },
   "file_extension": ".py",
   "mimetype": "text/x-python",
   "name": "python",
   "nbconvert_exporter": "python",
   "pygments_lexer": "ipython3",
   "version": "3.11.5"
  }
 },
 "nbformat": 4,
 "nbformat_minor": 0
}
